{
  "nbformat": 4,
  "nbformat_minor": 0,
  "metadata": {
    "colab": {
      "name": "IMANUEL_TIO_2401959194_BIGDATAFIN.ipynb",
      "provenance": [],
      "include_colab_link": true
    },
    "kernelspec": {
      "name": "python3",
      "display_name": "Python 3"
    },
    "language_info": {
      "name": "python"
    }
  },
  "cells": [
    {
      "cell_type": "markdown",
      "metadata": {
        "id": "view-in-github",
        "colab_type": "text"
      },
      "source": [
        "<a href=\"https://colab.research.google.com/github/Tio6536/Dataset-UTS-Bigdata/blob/main/IMANUEL_TIO_2401959194_BIGDATAFIN.ipynb\" target=\"_parent\"><img src=\"https://colab.research.google.com/assets/colab-badge.svg\" alt=\"Open In Colab\"/></a>"
      ]
    },
    {
      "cell_type": "code",
      "execution_count": null,
      "metadata": {
        "id": "3MnOiEukHj_H"
      },
      "outputs": [],
      "source": [
        "!pip install pyspark py4j"
      ]
    },
    {
      "cell_type": "code",
      "source": [
        "from pyspark.sql import SparkSession\n",
        "spark = SparkSession.builder \\\n",
        "    .master(\"local[*]\") \\\n",
        "    .appName(\"Spark\") \\\n",
        "    .getOrCreate()\n",
        "sc = spark.sparkContext"
      ],
      "metadata": {
        "id": "aih3lSGwHphn"
      },
      "execution_count": 2,
      "outputs": []
    },
    {
      "cell_type": "code",
      "source": [
        "!wget https://raw.githubusercontent.com/Tio6536/Dataset-UTS-Bigdata/main/Table1.csv"
      ],
      "metadata": {
        "id": "UmuRxkQpH4gd"
      },
      "execution_count": null,
      "outputs": []
    },
    {
      "cell_type": "code",
      "source": [
        "path1 = \"Table1.csv\""
      ],
      "metadata": {
        "id": "Gwlboj9IH9jk"
      },
      "execution_count": 4,
      "outputs": []
    },
    {
      "cell_type": "code",
      "source": [
        "df1=spark.read.option(\"delimiter\", \",\").option(\"header\", \"true\").csv(path1)"
      ],
      "metadata": {
        "id": "6az7Q5RTIDPk"
      },
      "execution_count": 5,
      "outputs": []
    },
    {
      "cell_type": "code",
      "source": [
        "!wget https://raw.githubusercontent.com/Tio6536/Dataset-UTS-Bigdata/main/Table2.csv"
      ],
      "metadata": {
        "id": "DX_KVxqeIJ1M"
      },
      "execution_count": null,
      "outputs": []
    },
    {
      "cell_type": "code",
      "source": [
        "path2 = \"Table2.csv\""
      ],
      "metadata": {
        "id": "N8HxW3GPIPKp"
      },
      "execution_count": 7,
      "outputs": []
    },
    {
      "cell_type": "code",
      "source": [
        "df2=spark.read.option(\"delimiter\", \",\").option(\"header\", \"true\").csv(path2)"
      ],
      "metadata": {
        "id": "Vbqp1avaISWJ"
      },
      "execution_count": 8,
      "outputs": []
    },
    {
      "cell_type": "code",
      "source": [
        "df1.createOrReplaceTempView(\"DF1\")\n",
        "df2.createOrReplaceTempView(\"DF2\")"
      ],
      "metadata": {
        "id": "YPkBoJuxIZ0b"
      },
      "execution_count": 9,
      "outputs": []
    },
    {
      "cell_type": "code",
      "source": [
        "Result=spark.sql(\"select t1.user_id_sender as user_id_sender,t2.age as age_sender,t2.gender as gender_sender,t1.user_id_recipient as user_id_recipient,t3.age as age_recipient,t3.gender as gender_recipient,t1.image_id as image_id,t1.like from df1 t1 , df2 t2, df2 t3 where t1.user_id_sender==t2.user and t3.user==t1.user_id_recipient\")"
      ],
      "metadata": {
        "id": "vmBiOki5Ia4r"
      },
      "execution_count": 10,
      "outputs": []
    },
    {
      "cell_type": "code",
      "source": [
        "Result.write.option(\"header\",\"True\").csv(\"FinalResult\")"
      ],
      "metadata": {
        "id": "IIh7yqxUIgEP"
      },
      "execution_count": 11,
      "outputs": []
    },
    {
      "cell_type": "code",
      "source": [
        "Path3=\"FinalResult\""
      ],
      "metadata": {
        "id": "Yhq8hrDcIvK-"
      },
      "execution_count": 12,
      "outputs": []
    },
    {
      "cell_type": "code",
      "source": [
        "df3=spark.read.option(\"delimiter\", \",\").option(\"header\", \"true\").csv(Path3)"
      ],
      "metadata": {
        "id": "_XJhEuhHIyjz"
      },
      "execution_count": 13,
      "outputs": []
    },
    {
      "cell_type": "code",
      "source": [
        "df3.show()"
      ],
      "metadata": {
        "id": "fFm5e6tDI33f",
        "colab": {
          "base_uri": "https://localhost:8080/"
        },
        "outputId": "0adb257f-e21c-41d9-bcb6-40b3f18ba33c"
      },
      "execution_count": 15,
      "outputs": [
        {
          "output_type": "stream",
          "name": "stdout",
          "text": [
            "+--------------+----------+-------------+-----------------+-------------+----------------+--------+----+\n",
            "|user_id_sender|age_sender|gender_sender|user_id_recipient|age_recipient|gender_recipient|image_id|like|\n",
            "+--------------+----------+-------------+-----------------+-------------+----------------+--------+----+\n",
            "|       user002|        30|         Male|          user001|           28|          Female|image001|   1|\n",
            "|       user003|        18|       Female|          user001|           28|          Female|image001|   1|\n",
            "|       user004|        40|         Male|          user001|           28|          Female|image001|   0|\n",
            "|       user005|        30|       Female|          user001|           28|          Female|image001|   0|\n",
            "|       user002|        30|         Male|          user001|           28|          Female|image002|   1|\n",
            "|       user003|        18|       Female|          user001|           28|          Female|image002|   1|\n",
            "|       user004|        40|         Male|          user001|           28|          Female|image002|   1|\n",
            "|       user005|        30|       Female|          user001|           28|          Female|image002|   1|\n",
            "|       user001|        28|       Female|          user002|           30|            Male|image003|   0|\n",
            "|       user003|        18|       Female|          user002|           30|            Male|image003|   1|\n",
            "|       user004|        40|         Male|          user002|           30|            Male|image003|   1|\n",
            "|       user005|        30|       Female|          user002|           30|            Male|image003|   1|\n",
            "+--------------+----------+-------------+-----------------+-------------+----------------+--------+----+\n",
            "\n"
          ]
        }
      ]
    }
  ]
}