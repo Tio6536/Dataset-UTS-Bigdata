{
  "nbformat": 4,
  "nbformat_minor": 0,
  "metadata": {
    "colab": {
      "name": "IMANUEL TIO - 2401959194 - BIGDATAFIN.ipynb",
      "provenance": [],
      "collapsed_sections": [],
      "authorship_tag": "ABX9TyPiD4iVLS4egRwPBhXyAULT",
      "include_colab_link": true
    },
    "kernelspec": {
      "name": "python3",
      "display_name": "Python 3"
    },
    "language_info": {
      "name": "python"
    }
  },
  "cells": [
    {
      "cell_type": "markdown",
      "metadata": {
        "id": "view-in-github",
        "colab_type": "text"
      },
      "source": [
        "<a href=\"https://colab.research.google.com/github/Tio6536/Dataset-UTS-Bigdata/blob/main/IMANUEL_TIO_2401959194_BIGDATAFIN.ipynb\" target=\"_parent\"><img src=\"https://colab.research.google.com/assets/colab-badge.svg\" alt=\"Open In Colab\"/></a>"
      ]
    },
    {
      "cell_type": "code",
      "execution_count": 21,
      "metadata": {
        "id": "3MnOiEukHj_H",
        "colab": {
          "base_uri": "https://localhost:8080/"
        },
        "outputId": "a804e968-587c-4c7b-b8a9-760aab659114"
      },
      "outputs": [
        {
          "output_type": "stream",
          "name": "stdout",
          "text": [
            "Requirement already satisfied: pyspark in /usr/local/lib/python3.7/dist-packages (3.2.1)\n",
            "Requirement already satisfied: py4j in /usr/local/lib/python3.7/dist-packages (0.10.9.3)\n"
          ]
        }
      ],
      "source": [
        "!pip install pyspark py4j"
      ]
    },
    {
      "cell_type": "code",
      "source": [
        "from pyspark.sql import SparkSession\n",
        "spark = SparkSession.builder \\\n",
        "    .master(\"local[*]\") \\\n",
        "    .appName(\"Learning_Spark\") \\\n",
        "    .getOrCreate()\n",
        "sc = spark.sparkContext"
      ],
      "metadata": {
        "id": "aih3lSGwHphn"
      },
      "execution_count": 22,
      "outputs": []
    },
    {
      "cell_type": "code",
      "source": [
        "!wget https://raw.githubusercontent.com/Tio6536/Dataset-UTS-Bigdata/main/Table1.csv"
      ],
      "metadata": {
        "id": "UmuRxkQpH4gd"
      },
      "execution_count": null,
      "outputs": []
    },
    {
      "cell_type": "code",
      "source": [
        "path1 = \"Table1.csv\""
      ],
      "metadata": {
        "id": "Gwlboj9IH9jk"
      },
      "execution_count": null,
      "outputs": []
    },
    {
      "cell_type": "code",
      "source": [
        "df1=spark.read.option(\"delimiter\", \",\").option(\"header\", \"true\").csv(path1)"
      ],
      "metadata": {
        "id": "6az7Q5RTIDPk"
      },
      "execution_count": null,
      "outputs": []
    },
    {
      "cell_type": "code",
      "source": [
        "!wget https://raw.githubusercontent.com/Tio6536/Dataset-UTS-Bigdata/main/Table2.csv"
      ],
      "metadata": {
        "id": "DX_KVxqeIJ1M"
      },
      "execution_count": null,
      "outputs": []
    },
    {
      "cell_type": "code",
      "source": [
        "path2 = \"Table2.csv\""
      ],
      "metadata": {
        "id": "N8HxW3GPIPKp"
      },
      "execution_count": null,
      "outputs": []
    },
    {
      "cell_type": "code",
      "source": [
        "df2=spark.read.option(\"delimiter\", \",\").option(\"header\", \"true\").csv(path2)"
      ],
      "metadata": {
        "id": "Vbqp1avaISWJ"
      },
      "execution_count": null,
      "outputs": []
    },
    {
      "cell_type": "code",
      "source": [
        "df1.createOrReplaceTempView(\"DF1\")\n",
        "df2.createOrReplaceTempView(\"DF2\")"
      ],
      "metadata": {
        "id": "YPkBoJuxIZ0b"
      },
      "execution_count": null,
      "outputs": []
    },
    {
      "cell_type": "code",
      "source": [
        "Result=spark.sql(\"select t1.user_id_sender as user_id_sender,t2.age as age_sender,t2.gender as gender_sender,t1.user_id_recipient as user_id_recipient,t3.age as age_recipient,t3.gender as gender_recipient,t1.image_id as image_id,t1.like from df1 t1 , df2 t2, df2 t3 where t1.user_id_sender==t2.user and t3.user==t1.user_id_recipient\")"
      ],
      "metadata": {
        "id": "vmBiOki5Ia4r"
      },
      "execution_count": null,
      "outputs": []
    },
    {
      "cell_type": "code",
      "source": [
        "Result.write.option(\"header\",\"True\").csv(\"FinalResult\")"
      ],
      "metadata": {
        "id": "IIh7yqxUIgEP"
      },
      "execution_count": null,
      "outputs": []
    },
    {
      "cell_type": "code",
      "source": [
        "Path3=\"FinalResult\""
      ],
      "metadata": {
        "id": "Yhq8hrDcIvK-"
      },
      "execution_count": null,
      "outputs": []
    },
    {
      "cell_type": "code",
      "source": [
        "df3=spark.read.option(\"delimiter\", \",\").option(\"header\", \"true\").csv(Path3)"
      ],
      "metadata": {
        "id": "_XJhEuhHIyjz"
      },
      "execution_count": null,
      "outputs": []
    },
    {
      "cell_type": "code",
      "source": [
        "df3.show()"
      ],
      "metadata": {
        "id": "fFm5e6tDI33f"
      },
      "execution_count": null,
      "outputs": []
    }
  ]
}